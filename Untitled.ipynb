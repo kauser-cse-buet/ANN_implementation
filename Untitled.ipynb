{
 "cells": [
  {
   "cell_type": "code",
   "execution_count": 1,
   "metadata": {
    "collapsed": true
   },
   "outputs": [],
   "source": [
    "from sklearn.neural_network import MLPClassifier"
   ]
  },
  {
   "cell_type": "code",
   "execution_count": 29,
   "metadata": {
    "collapsed": true
   },
   "outputs": [],
   "source": [
    "L=[4, 4, 4, 1]   # Defining the layers: Total of 4 layers, # of nodes are 2, 4, 4, 1 respectively from input to output layer\n",
    "alpha = 0.2   # usually alpha < 0, ranging from 0.1 to 1\n",
    "target_mse=0.05 # // one of the exit condition\n",
    "Max_Epoch=2000  # // one of the exit condition\n",
    "Min_Error=float('inf')\n",
    "Min_Error_Epoch=-1\n",
    "epoch=0       # 1 epoch => One forward and backward sweep of the net for each training sample \n",
    "mse =float('inf');      # initializing the Mean Squared Error with a very large value.\n",
    "Err=[]\n",
    "Epo=[]"
   ]
  },
  {
   "cell_type": "code",
   "execution_count": 30,
   "metadata": {},
   "outputs": [
    {
     "name": "stdout",
     "output_type": "stream",
     "text": [
      "# number of features: 4\n"
     ]
    }
   ],
   "source": [
    "# load dataset \n",
    "import pandas as pd\n",
    "import numpy as np\n",
    "\n",
    "dataset = pd.read_csv(\"Data_and_Info/iris.data.txt\", header=None)\n",
    "\n",
    "Y = dataset[4] # target  output\n",
    "X = dataset.drop([4], axis=1) # features\n",
    "\n",
    "Nx, P = np.array(X).shape # Nx = number of samples, P = # of features\n",
    "Ny = np.array(Y).shape[0] # Ny = number of target class\n",
    "K = 1 # K = # of target class\n",
    "\n",
    "print(\"# number of features: \" + str(P))"
   ]
  },
  {
   "cell_type": "code",
   "execution_count": 31,
   "metadata": {},
   "outputs": [],
   "source": [
    "# Optional\n",
    "if L[0] != P:\n",
    "    raise Exception('The number of input nodes must be equal to the size of the features')\n",
    "\n",
    "# Optional\n",
    "if L[-1] != K:\n",
    "    raise Exception('The number of output node should be equal to K')\n",
    "\n"
   ]
  },
  {
   "cell_type": "code",
   "execution_count": null,
   "metadata": {
    "collapsed": true
   },
   "outputs": [],
   "source": []
  }
 ],
 "metadata": {
  "kernelspec": {
   "display_name": "Python 2",
   "language": "python",
   "name": "python2"
  },
  "language_info": {
   "codemirror_mode": {
    "name": "ipython",
    "version": 2
   },
   "file_extension": ".py",
   "mimetype": "text/x-python",
   "name": "python",
   "nbconvert_exporter": "python",
   "pygments_lexer": "ipython2",
   "version": "2.7.13"
  }
 },
 "nbformat": 4,
 "nbformat_minor": 2
}
